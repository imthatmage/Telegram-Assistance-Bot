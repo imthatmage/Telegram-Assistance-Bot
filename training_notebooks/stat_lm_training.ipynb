{
 "cells": [
  {
   "cell_type": "code",
   "execution_count": 1,
   "id": "ef9eaff1-3d7c-4179-a150-2f719603aebd",
   "metadata": {},
   "outputs": [],
   "source": [
    "%load_ext autoreload\n",
    "%autoreload 2"
   ]
  },
  {
   "cell_type": "code",
   "execution_count": 2,
   "id": "a90a5d54",
   "metadata": {},
   "outputs": [],
   "source": [
    "import os\n",
    "os.chdir('..')"
   ]
  },
  {
   "cell_type": "code",
   "execution_count": 3,
   "id": "64795249-6764-426f-bdcf-9c6811cda4c0",
   "metadata": {},
   "outputs": [
    {
     "name": "stderr",
     "output_type": "stream",
     "text": [
      "/home/alm/miniforge3/envs/assistant_nlp/lib/python3.9/site-packages/tqdm/auto.py:21: TqdmWarning: IProgress not found. Please update jupyter and ipywidgets. See https://ipywidgets.readthedocs.io/en/stable/user_install.html\n",
      "  from .autonotebook import tqdm as notebook_tqdm\n"
     ]
    }
   ],
   "source": [
    "import pandas as pd\n",
    "from datasets import load_dataset"
   ]
  },
  {
   "cell_type": "code",
   "execution_count": 4,
   "id": "444e6703",
   "metadata": {},
   "outputs": [],
   "source": [
    "from stat_lm import Tokenizer, StatLM, GenerationConfig"
   ]
  },
  {
   "cell_type": "code",
   "execution_count": 5,
   "id": "c48badb5",
   "metadata": {},
   "outputs": [],
   "source": [
    "# ds_name_2 = 'IlyaGusev/stihi_ru'\n",
    "\n",
    "def get_dataset(train_size: int,\n",
    "                test_size: int,\n",
    "                ds_name_1: str = 'IlyaGusev/gazeta',\n",
    "               ): \n",
    "    \n",
    "    train_dataset = load_dataset(ds_name_1, split='train')\n",
    "    test_dataset = load_dataset(ds_name_1, split='test')\n",
    "\n",
    "    train_df = pd.DataFrame(train_dataset).iloc[:train_size]\n",
    "    print(train_df.shape)\n",
    "\n",
    "    test_df = pd.DataFrame(test_dataset)[:test_size]\n",
    "    print(test_df.shape)\n",
    "\n",
    "    train_texts = (train_df['title'] + '\\n' + train_df['text']).tolist()\n",
    "    test_texts = (test_df['title'] + '\\n' + test_df['text']).tolist()\n",
    "    \n",
    "    return train_texts, test_texts"
   ]
  },
  {
   "cell_type": "code",
   "execution_count": 6,
   "id": "56ec0f25",
   "metadata": {},
   "outputs": [
    {
     "name": "stderr",
     "output_type": "stream",
     "text": [
      "/home/alm/miniforge3/envs/assistant_nlp/lib/python3.9/site-packages/datasets/load.py:1461: FutureWarning: The repository for IlyaGusev/gazeta contains custom code which must be executed to correctly load the dataset. You can inspect the repository content at https://hf.co/datasets/IlyaGusev/gazeta\n",
      "You can avoid this message in future by passing the argument `trust_remote_code=True`.\n",
      "Passing `trust_remote_code=True` will be mandatory to load this dataset from the next major release of `datasets`.\n",
      "  warnings.warn(\n",
      "/home/alm/miniforge3/envs/assistant_nlp/lib/python3.9/site-packages/datasets/load.py:1461: FutureWarning: The repository for IlyaGusev/gazeta contains custom code which must be executed to correctly load the dataset. You can inspect the repository content at https://hf.co/datasets/IlyaGusev/gazeta\n",
      "You can avoid this message in future by passing the argument `trust_remote_code=True`.\n",
      "Passing `trust_remote_code=True` will be mandatory to load this dataset from the next major release of `datasets`.\n",
      "  warnings.warn(\n"
     ]
    },
    {
     "name": "stdout",
     "output_type": "stream",
     "text": [
      "(20000, 5)\n",
      "(5000, 5)\n"
     ]
    }
   ],
   "source": [
    "ds_name_1 = \"IlyaGusev/gazeta\"\n",
    "train_size = 20000\n",
    "# train_size = 5000\n",
    "test_size = 5000\n",
    "\n",
    "train_dataset = load_dataset(ds_name_1, split='train')\n",
    "test_dataset = load_dataset(ds_name_1, split='test')\n",
    "\n",
    "train_df = pd.DataFrame(train_dataset).iloc[:train_size]\n",
    "print(train_df.shape)\n",
    "\n",
    "test_df = pd.DataFrame(test_dataset)[:test_size]\n",
    "print(test_df.shape)\n",
    "\n",
    "train_texts = (train_df['title'] + '\\n' + train_df['text']).tolist()\n",
    "test_texts = (test_df['title'] + '\\n' + test_df['text']).tolist()"
   ]
  },
  {
   "cell_type": "code",
   "execution_count": 7,
   "id": "6b2470f2",
   "metadata": {},
   "outputs": [],
   "source": [
    "all_texts = train_texts + test_texts"
   ]
  },
  {
   "cell_type": "code",
   "execution_count": 8,
   "id": "547bb00f-8e7e-4cdf-9471-77537469f4cb",
   "metadata": {},
   "outputs": [],
   "source": [
    "tokenizer = Tokenizer().build_vocab(all_texts)"
   ]
  },
  {
   "cell_type": "code",
   "execution_count": 9,
   "id": "c245b6c9",
   "metadata": {},
   "outputs": [
    {
     "data": {
      "text/plain": [
       "<stat_lm.Tokenizer at 0x7ff04f69c490>"
      ]
     },
     "execution_count": 9,
     "metadata": {},
     "output_type": "execute_result"
    }
   ],
   "source": [
    "Tokenizer()"
   ]
  },
  {
   "cell_type": "code",
   "execution_count": 10,
   "id": "319547b3-3f12-4cb8-8380-f75cc0a1d907",
   "metadata": {},
   "outputs": [
    {
     "data": {
      "text/plain": [
       "379713"
      ]
     },
     "execution_count": 10,
     "metadata": {},
     "output_type": "execute_result"
    }
   ],
   "source": [
    "len(tokenizer.vocab)"
   ]
  },
  {
   "cell_type": "code",
   "execution_count": 11,
   "id": "3cac9845-d306-4528-9796-396c5fb602a1",
   "metadata": {},
   "outputs": [],
   "source": [
    "text_example = \"В России люди любят искать приключения на голову\""
   ]
  },
  {
   "cell_type": "code",
   "execution_count": 12,
   "id": "90552be8-0c55-4283-ab5e-cfcdff377145",
   "metadata": {},
   "outputs": [
    {
     "data": {
      "text/plain": [
       "[9867, 335239, 259101, 101824, 209316, 242721, 174755, 20319, 379710]"
      ]
     },
     "execution_count": 12,
     "metadata": {},
     "output_type": "execute_result"
    }
   ],
   "source": [
    "tokenizer.encode(text_example)"
   ]
  },
  {
   "cell_type": "code",
   "execution_count": 13,
   "id": "50920ab8-e8f6-4392-9b85-b6fe2ccbbee3",
   "metadata": {},
   "outputs": [
    {
     "data": {
      "text/plain": [
       "['в', 'россии', 'люди', 'любят', 'искать', 'приключения', 'на', 'голову']"
      ]
     },
     "execution_count": 13,
     "metadata": {},
     "output_type": "execute_result"
    }
   ],
   "source": [
    "tokenizer._tokenize(text_example, append_eos_token=False)"
   ]
  },
  {
   "cell_type": "code",
   "execution_count": 14,
   "id": "ec382de3-5267-434d-aa5c-8c6aafec92aa",
   "metadata": {},
   "outputs": [
    {
     "data": {
      "text/plain": [
       "'в россии люди любят искать приключения на голову'"
      ]
     },
     "execution_count": 14,
     "metadata": {},
     "output_type": "execute_result"
    }
   ],
   "source": [
    "tokenizer.decode(tokenizer.encode(text_example), remove_special_tokens=True)"
   ]
  },
  {
   "cell_type": "code",
   "execution_count": 15,
   "id": "8233fc65-237c-477c-94f4-a655c4a0a32b",
   "metadata": {},
   "outputs": [],
   "source": [
    "stat_lm = StatLM(tokenizer, context_size=3, alpha=0.0001)"
   ]
  },
  {
   "cell_type": "code",
   "execution_count": 16,
   "id": "08233541-1854-45c4-85a7-4dbab69e33a4",
   "metadata": {},
   "outputs": [
    {
     "name": "stderr",
     "output_type": "stream",
     "text": [
      "0it [00:00, ?it/s]"
     ]
    },
    {
     "name": "stderr",
     "output_type": "stream",
     "text": [
      "1it [00:21, 21.88s/it]\n"
     ]
    }
   ],
   "source": [
    "# \"обучаем\" модель - считаем статистики\n",
    "stat_lm.train(train_texts)"
   ]
  },
  {
   "cell_type": "code",
   "execution_count": 17,
   "id": "0cc3b629-22dc-49a0-8607-fa02ee0b0d55",
   "metadata": {},
   "outputs": [],
   "source": [
    "config = {\n",
    "    'temperature': 1.2,\n",
    "    'max_tokens': 30,\n",
    "    'sample_top_p': 5,\n",
    "    'decoding_strategy': 'top-p',\n",
    "    'gen_decay': 1,\n",
    "}\n",
    "\n",
    "generation_config = GenerationConfig(temperature=config['temperature'],\n",
    "                                     max_tokens=config['max_tokens'],\n",
    "                                     sample_top_p=config['sample_top_p'],\n",
    "                                     decoding_strategy=config['decoding_strategy'],\n",
    "                                     gen_decay=config['gen_decay'],\n",
    "                                     remove_special_tokens=True)"
   ]
  },
  {
   "cell_type": "code",
   "execution_count": 18,
   "id": "ac983cba",
   "metadata": {},
   "outputs": [
    {
     "name": "stdout",
     "output_type": "stream",
     "text": [
      "за крупнейшим взломом twitter стоит 16 - летний подросток , меня поймут президент рфс сергей фурсенко , министр спорта виталий мутко . на данный момент в матче . в частности\n",
      "max tokens \n",
      "\n",
      "ni : российский гермес станет убийцей западных танков лута самовозгорания\n",
      "end of text \n",
      "\n",
      "автор хита i like to move it умер на фоне обвинений в насилии . на данный момент в матче с динамо . другие новости и статистику можно посмотреть на странице\n",
      "max tokens \n",
      "\n",
      "названа опасность постоянно включенного bluetooth\n",
      "end of text \n",
      "\n",
      "лавров сообщил о скорой встрече лукашенко с путиным в москве . в итоге , как в россии , а также кубка и суперкубка страны , подробности матчей и положение команд\n",
      "max tokens \n",
      "\n"
     ]
    }
   ],
   "source": [
    "for text in test_texts[50:55]:\n",
    "    title = text.split('\\n')[0]\n",
    "    generated = stat_lm.generate_text(title, generation_config)\n",
    "    print(generated['total_text'])\n",
    "    print(generated['finish_reason'], '\\n')"
   ]
  },
  {
   "cell_type": "code",
   "execution_count": 19,
   "id": "7c7d2215",
   "metadata": {},
   "outputs": [
    {
     "name": "stdout",
     "output_type": "stream",
     "text": [
      "машины нет в плане , что в случае с ними . я думаю , что в случае с ними , и в других странах . в итоге , по его\n",
      "max tokens \n",
      "\n",
      "за халтуру ответят на сайте ведомства . в итоге , по словам главы ведомства , в том , что на самом деле , а не только с одной стороны ,\n",
      "max tokens \n",
      "\n",
      "кредиты возьмутся за пенсии минздравсоцразвития планирует предоставить гражданам возможность уйти с последнего места в карьер и , конечно же , как и в итоге , как и в этом случае\n",
      "max tokens \n",
      "\n",
      "отдых сбежал от туристов . в начале года . в итоге и стал причиной смерти стал обширный инфаркт . согласно закону о полиции , что это будет очень сложно .\n",
      "max tokens \n",
      "\n",
      "династический спор лейкерс , в частности , в частности , в частности , с помощью которого можно будет увидеть в нашей стране , в частности , в частности , в\n",
      "max tokens \n",
      "\n"
     ]
    }
   ],
   "source": [
    "for text in train_texts[50:55]:\n",
    "    title = text.split('\\n')[0]\n",
    "    generated = stat_lm.generate_text(title, generation_config)\n",
    "    print(generated['total_text'])\n",
    "    print(generated['finish_reason'], '\\n')"
   ]
  },
  {
   "cell_type": "code",
   "execution_count": 20,
   "id": "a0b630e5-a8eb-4142-a809-e06cdad02b98",
   "metadata": {},
   "outputs": [
    {
     "data": {
      "text/plain": [
       "True"
      ]
     },
     "execution_count": 20,
     "metadata": {},
     "output_type": "execute_result"
    }
   ],
   "source": [
    "tokenizer.save('tokenizer.pkl')"
   ]
  },
  {
   "cell_type": "code",
   "execution_count": 21,
   "id": "d15ea36f-6ab9-4e1c-9973-1d90ce4e4cd3",
   "metadata": {},
   "outputs": [
    {
     "data": {
      "text/plain": [
       "True"
      ]
     },
     "execution_count": 21,
     "metadata": {},
     "output_type": "execute_result"
    }
   ],
   "source": [
    "stat_lm.save_stat('stat_lm.pkl')"
   ]
  }
 ],
 "metadata": {
  "kernelspec": {
   "display_name": "Python 3 (ipykernel)",
   "language": "python",
   "name": "python3"
  },
  "language_info": {
   "codemirror_mode": {
    "name": "ipython",
    "version": 3
   },
   "file_extension": ".py",
   "mimetype": "text/x-python",
   "name": "python",
   "nbconvert_exporter": "python",
   "pygments_lexer": "ipython3",
   "version": "3.9.18"
  }
 },
 "nbformat": 4,
 "nbformat_minor": 5
}
